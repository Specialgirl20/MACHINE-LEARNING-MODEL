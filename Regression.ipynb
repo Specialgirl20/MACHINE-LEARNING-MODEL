{
 "cells": [
  {
   "cell_type": "code",
   "execution_count": 65,
   "id": "178d6822",
   "metadata": {},
   "outputs": [],
   "source": [
    "#Importing necessary libaries\n",
    "\n",
    "import numpy as np \n",
    "import pandas as pd\n",
    "import matplotlib.pyplot as plt\n",
    "import seaborn as sb\n"
   ]
  },
  {
   "cell_type": "code",
   "execution_count": 66,
   "id": "36d9f903",
   "metadata": {},
   "outputs": [
    {
     "data": {
      "text/html": [
       "<div>\n",
       "<style scoped>\n",
       "    .dataframe tbody tr th:only-of-type {\n",
       "        vertical-align: middle;\n",
       "    }\n",
       "\n",
       "    .dataframe tbody tr th {\n",
       "        vertical-align: top;\n",
       "    }\n",
       "\n",
       "    .dataframe thead th {\n",
       "        text-align: right;\n",
       "    }\n",
       "</style>\n",
       "<table border=\"1\" class=\"dataframe\">\n",
       "  <thead>\n",
       "    <tr style=\"text-align: right;\">\n",
       "      <th></th>\n",
       "      <th>Age</th>\n",
       "      <th>Gender</th>\n",
       "      <th>Education Level</th>\n",
       "      <th>Job Title</th>\n",
       "      <th>Years of Experience</th>\n",
       "      <th>Salary</th>\n",
       "    </tr>\n",
       "  </thead>\n",
       "  <tbody>\n",
       "    <tr>\n",
       "      <th>0</th>\n",
       "      <td>32.0</td>\n",
       "      <td>Male</td>\n",
       "      <td>Bachelor's</td>\n",
       "      <td>Software Engineer</td>\n",
       "      <td>5.0</td>\n",
       "      <td>90000.0</td>\n",
       "    </tr>\n",
       "    <tr>\n",
       "      <th>1</th>\n",
       "      <td>28.0</td>\n",
       "      <td>Female</td>\n",
       "      <td>Master's</td>\n",
       "      <td>Data Analyst</td>\n",
       "      <td>3.0</td>\n",
       "      <td>65000.0</td>\n",
       "    </tr>\n",
       "    <tr>\n",
       "      <th>2</th>\n",
       "      <td>45.0</td>\n",
       "      <td>Male</td>\n",
       "      <td>PhD</td>\n",
       "      <td>Senior Manager</td>\n",
       "      <td>15.0</td>\n",
       "      <td>150000.0</td>\n",
       "    </tr>\n",
       "    <tr>\n",
       "      <th>3</th>\n",
       "      <td>36.0</td>\n",
       "      <td>Female</td>\n",
       "      <td>Bachelor's</td>\n",
       "      <td>Sales Associate</td>\n",
       "      <td>7.0</td>\n",
       "      <td>60000.0</td>\n",
       "    </tr>\n",
       "    <tr>\n",
       "      <th>4</th>\n",
       "      <td>52.0</td>\n",
       "      <td>Male</td>\n",
       "      <td>Master's</td>\n",
       "      <td>Director</td>\n",
       "      <td>20.0</td>\n",
       "      <td>200000.0</td>\n",
       "    </tr>\n",
       "  </tbody>\n",
       "</table>\n",
       "</div>"
      ],
      "text/plain": [
       "    Age  Gender Education Level          Job Title  Years of Experience  \\\n",
       "0  32.0    Male      Bachelor's  Software Engineer                  5.0   \n",
       "1  28.0  Female        Master's       Data Analyst                  3.0   \n",
       "2  45.0    Male             PhD     Senior Manager                 15.0   \n",
       "3  36.0  Female      Bachelor's    Sales Associate                  7.0   \n",
       "4  52.0    Male        Master's           Director                 20.0   \n",
       "\n",
       "     Salary  \n",
       "0   90000.0  \n",
       "1   65000.0  \n",
       "2  150000.0  \n",
       "3   60000.0  \n",
       "4  200000.0  "
      ]
     },
     "execution_count": 66,
     "metadata": {},
     "output_type": "execute_result"
    }
   ],
   "source": [
    "df = pd.read_excel('Salary_data.xlsx')\n",
    "df.head()"
   ]
  },
  {
   "cell_type": "code",
   "execution_count": 67,
   "id": "30463034",
   "metadata": {},
   "outputs": [
    {
     "name": "stdout",
     "output_type": "stream",
     "text": [
      "<class 'pandas.core.frame.DataFrame'>\n",
      "RangeIndex: 375 entries, 0 to 374\n",
      "Data columns (total 6 columns):\n",
      " #   Column               Non-Null Count  Dtype  \n",
      "---  ------               --------------  -----  \n",
      " 0   Age                  373 non-null    float64\n",
      " 1   Gender               373 non-null    object \n",
      " 2   Education Level      373 non-null    object \n",
      " 3   Job Title            373 non-null    object \n",
      " 4   Years of Experience  373 non-null    float64\n",
      " 5   Salary               373 non-null    float64\n",
      "dtypes: float64(3), object(3)\n",
      "memory usage: 17.7+ KB\n"
     ]
    }
   ],
   "source": [
    "df.info()"
   ]
  },
  {
   "cell_type": "code",
   "execution_count": 68,
   "id": "3a8dc095",
   "metadata": {
    "scrolled": true
   },
   "outputs": [
    {
     "data": {
      "text/plain": [
       "Age                    2\n",
       "Gender                 2\n",
       "Education Level        2\n",
       "Job Title              2\n",
       "Years of Experience    2\n",
       "Salary                 2\n",
       "dtype: int64"
      ]
     },
     "execution_count": 68,
     "metadata": {},
     "output_type": "execute_result"
    }
   ],
   "source": [
    "df.isnull().sum()"
   ]
  },
  {
   "cell_type": "markdown",
   "id": "5528b49e",
   "metadata": {},
   "source": [
    "- The Years of experience and Age column are of incorrect data type. \n",
    "- There are two empty rows in the dataset"
   ]
  },
  {
   "cell_type": "code",
   "execution_count": 69,
   "id": "30219f25",
   "metadata": {},
   "outputs": [
    {
     "data": {
      "text/plain": [
       "Age                    0\n",
       "Gender                 0\n",
       "Education Level        0\n",
       "Job Title              0\n",
       "Years of Experience    0\n",
       "Salary                 0\n",
       "dtype: int64"
      ]
     },
     "execution_count": 69,
     "metadata": {},
     "output_type": "execute_result"
    }
   ],
   "source": [
    "'''This line removes all rows containing missing values (NaNs) from the DataFrame df.\n",
    "The inplace=True parameter modifies the DataFrame in place,\n",
    "meaning it doesn't return a new DataFrame but instead applies the operation directly to df.\n",
    "'''\n",
    "\n",
    "df.dropna(inplace=True)\n",
    "df.isnull().sum()"
   ]
  },
  {
   "cell_type": "code",
   "execution_count": 70,
   "id": "c568584c",
   "metadata": {},
   "outputs": [],
   "source": [
    "#Changing the age and years of experience data type from float to integer\n",
    "\n",
    "df['Age'] = df['Age'].astype('int')\n",
    "df['Years of Experience'] = df['Years of Experience'].astype('int')"
   ]
  },
  {
   "cell_type": "code",
   "execution_count": 71,
   "id": "ddc14a18",
   "metadata": {},
   "outputs": [
    {
     "name": "stdout",
     "output_type": "stream",
     "text": [
      "<class 'pandas.core.frame.DataFrame'>\n",
      "Int64Index: 373 entries, 0 to 374\n",
      "Data columns (total 6 columns):\n",
      " #   Column               Non-Null Count  Dtype  \n",
      "---  ------               --------------  -----  \n",
      " 0   Age                  373 non-null    int32  \n",
      " 1   Gender               373 non-null    object \n",
      " 2   Education Level      373 non-null    object \n",
      " 3   Job Title            373 non-null    object \n",
      " 4   Years of Experience  373 non-null    int32  \n",
      " 5   Salary               373 non-null    float64\n",
      "dtypes: float64(1), int32(2), object(3)\n",
      "memory usage: 17.5+ KB\n"
     ]
    }
   ],
   "source": [
    "df.info()"
   ]
  },
  {
   "cell_type": "code",
   "execution_count": 72,
   "id": "4c461e88",
   "metadata": {},
   "outputs": [
    {
     "data": {
      "text/plain": [
       "(373, 6)"
      ]
     },
     "execution_count": 72,
     "metadata": {},
     "output_type": "execute_result"
    }
   ],
   "source": [
    "df.shape"
   ]
  },
  {
   "cell_type": "code",
   "execution_count": 73,
   "id": "d1159bd4",
   "metadata": {},
   "outputs": [
    {
     "data": {
      "text/html": [
       "<div>\n",
       "<style scoped>\n",
       "    .dataframe tbody tr th:only-of-type {\n",
       "        vertical-align: middle;\n",
       "    }\n",
       "\n",
       "    .dataframe tbody tr th {\n",
       "        vertical-align: top;\n",
       "    }\n",
       "\n",
       "    .dataframe thead th {\n",
       "        text-align: right;\n",
       "    }\n",
       "</style>\n",
       "<table border=\"1\" class=\"dataframe\">\n",
       "  <thead>\n",
       "    <tr style=\"text-align: right;\">\n",
       "      <th></th>\n",
       "      <th>Age</th>\n",
       "      <th>Years of Experience</th>\n",
       "      <th>Salary</th>\n",
       "    </tr>\n",
       "  </thead>\n",
       "  <tbody>\n",
       "    <tr>\n",
       "      <th>count</th>\n",
       "      <td>373.000000</td>\n",
       "      <td>373.000000</td>\n",
       "      <td>373.000000</td>\n",
       "    </tr>\n",
       "    <tr>\n",
       "      <th>mean</th>\n",
       "      <td>37.431635</td>\n",
       "      <td>10.013405</td>\n",
       "      <td>100577.345845</td>\n",
       "    </tr>\n",
       "    <tr>\n",
       "      <th>std</th>\n",
       "      <td>7.069073</td>\n",
       "      <td>6.580546</td>\n",
       "      <td>48240.013482</td>\n",
       "    </tr>\n",
       "    <tr>\n",
       "      <th>min</th>\n",
       "      <td>23.000000</td>\n",
       "      <td>0.000000</td>\n",
       "      <td>350.000000</td>\n",
       "    </tr>\n",
       "    <tr>\n",
       "      <th>25%</th>\n",
       "      <td>31.000000</td>\n",
       "      <td>4.000000</td>\n",
       "      <td>55000.000000</td>\n",
       "    </tr>\n",
       "    <tr>\n",
       "      <th>50%</th>\n",
       "      <td>36.000000</td>\n",
       "      <td>9.000000</td>\n",
       "      <td>95000.000000</td>\n",
       "    </tr>\n",
       "    <tr>\n",
       "      <th>75%</th>\n",
       "      <td>44.000000</td>\n",
       "      <td>15.000000</td>\n",
       "      <td>140000.000000</td>\n",
       "    </tr>\n",
       "    <tr>\n",
       "      <th>max</th>\n",
       "      <td>53.000000</td>\n",
       "      <td>25.000000</td>\n",
       "      <td>250000.000000</td>\n",
       "    </tr>\n",
       "  </tbody>\n",
       "</table>\n",
       "</div>"
      ],
      "text/plain": [
       "              Age  Years of Experience         Salary\n",
       "count  373.000000           373.000000     373.000000\n",
       "mean    37.431635            10.013405  100577.345845\n",
       "std      7.069073             6.580546   48240.013482\n",
       "min     23.000000             0.000000     350.000000\n",
       "25%     31.000000             4.000000   55000.000000\n",
       "50%     36.000000             9.000000   95000.000000\n",
       "75%     44.000000            15.000000  140000.000000\n",
       "max     53.000000            25.000000  250000.000000"
      ]
     },
     "execution_count": 73,
     "metadata": {},
     "output_type": "execute_result"
    }
   ],
   "source": [
    "df.describe()"
   ]
  },
  {
   "cell_type": "markdown",
   "id": "cfab37e3",
   "metadata": {},
   "source": [
    "Salaries in the dataset vary widely, ranging from a minimum of 350 to a maximum of 250,000.\n",
    "\n",
    "The staffs are within the age 23 to 53"
   ]
  },
  {
   "cell_type": "code",
   "execution_count": 74,
   "id": "88235d0e",
   "metadata": {},
   "outputs": [
    {
     "data": {
      "text/plain": [
       "49"
      ]
     },
     "execution_count": 74,
     "metadata": {},
     "output_type": "execute_result"
    }
   ],
   "source": [
    "#Checking for duplicate values\n",
    "df.duplicated().sum()"
   ]
  },
  {
   "cell_type": "code",
   "execution_count": 75,
   "id": "f194e886",
   "metadata": {},
   "outputs": [],
   "source": [
    "#Droping duplicated rows\n",
    "df.drop_duplicates(inplace=True)"
   ]
  },
  {
   "cell_type": "code",
   "execution_count": 76,
   "id": "19ca8fab",
   "metadata": {},
   "outputs": [
    {
     "data": {
      "text/plain": [
       "(324, 6)"
      ]
     },
     "execution_count": 76,
     "metadata": {},
     "output_type": "execute_result"
    }
   ],
   "source": [
    "df.shape"
   ]
  },
  {
   "cell_type": "code",
   "execution_count": 77,
   "id": "50efa933",
   "metadata": {},
   "outputs": [
    {
     "data": {
      "text/plain": [
       "0"
      ]
     },
     "execution_count": 77,
     "metadata": {},
     "output_type": "execute_result"
    }
   ],
   "source": [
    "df.duplicated().sum()"
   ]
  },
  {
   "cell_type": "markdown",
   "id": "6ce2c72d",
   "metadata": {},
   "source": [
    "### EDA"
   ]
  },
  {
   "cell_type": "code",
   "execution_count": 78,
   "id": "c69e66f2",
   "metadata": {},
   "outputs": [
    {
     "data": {
      "image/png": "[encoded data removed]",
      "text/plain": [
       "<Figure size 432x288 with 1 Axes>"
      ]
     },
     "metadata": {
      "needs_background": "light"
     },
     "output_type": "display_data"
    }
   ],
   "source": [
    "'''this code block provides a visual summary of the salary distribution in the DataFrame df, \n",
    "highlighting the mean salary value with a dashed red line.'''\n",
    "\n",
    "plt.hist(df['Salary'])\n",
    "\n",
    "#Plotting a line for the mean value in salary\n",
    "plt.axvline(df['Salary'].mean(), color='red', linestyle='dashed', linewidth=2, label='Mean Salary')\n",
    "\n",
    "plt.title('Salary Distribution')\n",
    "plt.show()"
   ]
  },
  {
   "cell_type": "markdown",
   "id": "aac78654",
   "metadata": {},
   "source": [
    "Majority of the salaries are below average "
   ]
  },
  {
   "cell_type": "code",
   "execution_count": 79,
   "id": "aeddc96c",
   "metadata": {},
   "outputs": [
    {
     "data": {
      "image/png": "[encoded data removed]",
      "text/plain": [
       "<Figure size 432x288 with 1 Axes>"
      ]
     },
     "metadata": {
      "needs_background": "light"
     },
     "output_type": "display_data"
    }
   ],
   "source": [
    "sb.boxplot(df['Salary'])\n",
    "plt.title('Boxplot for salary')\n",
    "plt.show()"
   ]
  },
  {
   "cell_type": "code",
   "execution_count": 80,
   "id": "a1302c98",
   "metadata": {},
   "outputs": [
    {
     "data": {
      "image/png": "[encoded data removed]",
      "text/plain": [
       "<Figure size 432x288 with 1 Axes>"
      ]
     },
     "metadata": {
      "needs_background": "light"
     },
     "output_type": "display_data"
    }
   ],
   "source": [
    "sb.boxplot(df['Age'])\n",
    "plt.title('Boxplot for Age')\n",
    "plt.show()"
   ]
  },
  {
   "cell_type": "code",
   "execution_count": 81,
   "id": "a0e7fe27",
   "metadata": {},
   "outputs": [
    {
     "data": {
      "image/png": "[encoded data removed]",
      "text/plain": [
       "<Figure size 432x288 with 1 Axes>"
      ]
     },
     "metadata": {
      "needs_background": "light"
     },
     "output_type": "display_data"
    }
   ],
   "source": [
    "import warnings\n",
    "warnings.filterwarnings(\"ignore\")\n",
    "\n",
    "sb.distplot(df['Age'])\n",
    "plt.title('Age Distribution')\n",
    "plt.show()"
   ]
  },
  {
   "cell_type": "markdown",
   "id": "28a0fa79",
   "metadata": {},
   "source": [
    "The values in the age column follows a normal distribution"
   ]
  },
  {
   "cell_type": "code",
   "execution_count": 82,
   "id": "ed8543a1",
   "metadata": {},
   "outputs": [],
   "source": [
    "#This line selects columns from the DataFrame df that have data types 'object' (typically string data) or 'category' (categorical data).\n",
    "cat_features = df.select_dtypes(include=['object','category'])"
   ]
  },
  {
   "cell_type": "code",
   "execution_count": 83,
   "id": "401fb4a9",
   "metadata": {},
   "outputs": [
    {
     "data": {
      "text/html": [
       "<div>\n",
       "<style scoped>\n",
       "    .dataframe tbody tr th:only-of-type {\n",
       "        vertical-align: middle;\n",
       "    }\n",
       "\n",
       "    .dataframe tbody tr th {\n",
       "        vertical-align: top;\n",
       "    }\n",
       "\n",
       "    .dataframe thead th {\n",
       "        text-align: right;\n",
       "    }\n",
       "</style>\n",
       "<table border=\"1\" class=\"dataframe\">\n",
       "  <thead>\n",
       "    <tr style=\"text-align: right;\">\n",
       "      <th></th>\n",
       "      <th>Gender</th>\n",
       "      <th>Education Level</th>\n",
       "      <th>Job Title</th>\n",
       "    </tr>\n",
       "  </thead>\n",
       "  <tbody>\n",
       "    <tr>\n",
       "      <th>0</th>\n",
       "      <td>Male</td>\n",
       "      <td>Bachelor's</td>\n",
       "      <td>Software Engineer</td>\n",
       "    </tr>\n",
       "    <tr>\n",
       "      <th>1</th>\n",
       "      <td>Female</td>\n",
       "      <td>Master's</td>\n",
       "      <td>Data Analyst</td>\n",
       "    </tr>\n",
       "    <tr>\n",
       "      <th>2</th>\n",
       "      <td>Male</td>\n",
       "      <td>PhD</td>\n",
       "      <td>Senior Manager</td>\n",
       "    </tr>\n",
       "    <tr>\n",
       "      <th>3</th>\n",
       "      <td>Female</td>\n",
       "      <td>Bachelor's</td>\n",
       "      <td>Sales Associate</td>\n",
       "    </tr>\n",
       "    <tr>\n",
       "      <th>4</th>\n",
       "      <td>Male</td>\n",
       "      <td>Master's</td>\n",
       "      <td>Director</td>\n",
       "    </tr>\n",
       "    <tr>\n",
       "      <th>...</th>\n",
       "      <td>...</td>\n",
       "      <td>...</td>\n",
       "      <td>...</td>\n",
       "    </tr>\n",
       "    <tr>\n",
       "      <th>348</th>\n",
       "      <td>Female</td>\n",
       "      <td>Bachelor's</td>\n",
       "      <td>Junior Operations Manager</td>\n",
       "    </tr>\n",
       "    <tr>\n",
       "      <th>349</th>\n",
       "      <td>Male</td>\n",
       "      <td>Bachelor's</td>\n",
       "      <td>Senior Business Development Manager</td>\n",
       "    </tr>\n",
       "    <tr>\n",
       "      <th>350</th>\n",
       "      <td>Female</td>\n",
       "      <td>PhD</td>\n",
       "      <td>Senior Data Scientist</td>\n",
       "    </tr>\n",
       "    <tr>\n",
       "      <th>351</th>\n",
       "      <td>Male</td>\n",
       "      <td>Bachelor's</td>\n",
       "      <td>Junior Marketing Coordinator</td>\n",
       "    </tr>\n",
       "    <tr>\n",
       "      <th>371</th>\n",
       "      <td>Male</td>\n",
       "      <td>Master's</td>\n",
       "      <td>Director of Operations</td>\n",
       "    </tr>\n",
       "  </tbody>\n",
       "</table>\n",
       "<p>324 rows × 3 columns</p>\n",
       "</div>"
      ],
      "text/plain": [
       "     Gender Education Level                            Job Title\n",
       "0      Male      Bachelor's                    Software Engineer\n",
       "1    Female        Master's                         Data Analyst\n",
       "2      Male             PhD                       Senior Manager\n",
       "3    Female      Bachelor's                      Sales Associate\n",
       "4      Male        Master's                             Director\n",
       "..      ...             ...                                  ...\n",
       "348  Female      Bachelor's            Junior Operations Manager\n",
       "349    Male      Bachelor's  Senior Business Development Manager\n",
       "350  Female             PhD                Senior Data Scientist\n",
       "351    Male      Bachelor's         Junior Marketing Coordinator\n",
       "371    Male        Master's               Director of Operations\n",
       "\n",
       "[324 rows x 3 columns]"
      ]
     },
     "execution_count": 83,
     "metadata": {},
     "output_type": "execute_result"
    }
   ],
   "source": [
    "cat_features"
   ]
  },
  {
   "cell_type": "code",
   "execution_count": 84,
   "id": "f325d309",
   "metadata": {},
   "outputs": [
    {
     "data": {
      "image/png": "[encoded data removed]",
      "text/plain": [
       "<Figure size 432x288 with 1 Axes>"
      ]
     },
     "metadata": {
      "needs_background": "light"
     },
     "output_type": "display_data"
    },
    {
     "data": {
      "image/png": "[encoded data removed]",
      "text/plain": [
       "<Figure size 432x288 with 1 Axes>"
      ]
     },
     "metadata": {
      "needs_background": "light"
     },
     "output_type": "display_data"
    },
    {
     "data": {
      "image/png": "[encoded data removed]",
      "text/plain": [
       "<Figure size 432x288 with 1 Axes>"
      ]
     },
     "metadata": {
      "needs_background": "light"
     },
     "output_type": "display_data"
    }
   ],
   "source": [
    "'''This line iterates over each column (feature) in cat_features.\n",
    "and  creates a count plot for the current categorical feature (col) using Seaborn's countplot() function.\n",
    "\n",
    "'''\n",
    "for col in cat_features:\n",
    "    sb.countplot(x=col, data=df) #sb.countplot(x='gender', data=df)\n",
    "    plt.title(f'Count plot of {col}')\n",
    "    plt.show()"
   ]
  },
  {
   "cell_type": "code",
   "execution_count": 85,
   "id": "8366691d",
   "metadata": {},
   "outputs": [
    {
     "data": {
      "text/html": [
       "<div>\n",
       "<style scoped>\n",
       "    .dataframe tbody tr th:only-of-type {\n",
       "        vertical-align: middle;\n",
       "    }\n",
       "\n",
       "    .dataframe tbody tr th {\n",
       "        vertical-align: top;\n",
       "    }\n",
       "\n",
       "    .dataframe thead th {\n",
       "        text-align: right;\n",
       "    }\n",
       "</style>\n",
       "<table border=\"1\" class=\"dataframe\">\n",
       "  <thead>\n",
       "    <tr style=\"text-align: right;\">\n",
       "      <th></th>\n",
       "      <th>Age</th>\n",
       "      <th>Years of Experience</th>\n",
       "      <th>Salary</th>\n",
       "    </tr>\n",
       "  </thead>\n",
       "  <tbody>\n",
       "    <tr>\n",
       "      <th>Age</th>\n",
       "      <td>1.000000</td>\n",
       "      <td>0.979451</td>\n",
       "      <td>0.916543</td>\n",
       "    </tr>\n",
       "    <tr>\n",
       "      <th>Years of Experience</th>\n",
       "      <td>0.979451</td>\n",
       "      <td>1.000000</td>\n",
       "      <td>0.924669</td>\n",
       "    </tr>\n",
       "    <tr>\n",
       "      <th>Salary</th>\n",
       "      <td>0.916543</td>\n",
       "      <td>0.924669</td>\n",
       "      <td>1.000000</td>\n",
       "    </tr>\n",
       "  </tbody>\n",
       "</table>\n",
       "</div>"
      ],
      "text/plain": [
       "                          Age  Years of Experience    Salary\n",
       "Age                  1.000000             0.979451  0.916543\n",
       "Years of Experience  0.979451             1.000000  0.924669\n",
       "Salary               0.916543             0.924669  1.000000"
      ]
     },
     "execution_count": 85,
     "metadata": {},
     "output_type": "execute_result"
    },
    {
     "data": {
      "image/png": "[encoded data removed]",
      "text/plain": [
       "<Figure size 1008x1008 with 2 Axes>"
      ]
     },
     "metadata": {
      "needs_background": "light"
     },
     "output_type": "display_data"
    }
   ],
   "source": [
    "\n",
    "\n",
    "plt.figure(figsize=(14, 14))\n",
    "ax = sb.heatmap(corr, vmin=-1, vmax=1, center=0, square=True, annot = True)\n",
    "\n",
    "ax.set_xticklabels(ax.get_xticklabels(), rotation=45,horizontalalignment='right')\n",
    "\n",
    "corr"
   ]
  },
  {
   "cell_type": "markdown",
   "id": "7bf260cf",
   "metadata": {},
   "source": [
    "This code block above calculates the correlation matrix between the columns 'Age', 'Years of Experience', and 'Salary' in the DataFrame df, \n",
    "and then visualizes the correlation matrix using a heatmapcorr = df[['Age', 'Years of Experience','Salary']].corr()\n",
    "\n",
    "Correlation is a statistical measure that describes the relationship between two variables. \n",
    "it measures how changes in one variable are associated with changes in another variable.\n",
    "\n",
    "The Pearson correlation coefficient measures the linear relationship between two continuous variables.\n",
    "It ranges from -1 to 1\n",
    "\n",
    "r=1 indicates a perfect positive linear relationship: \n",
    "As one variable increases, the other variable also increases proportionally.\n",
    "\n",
    "r=−1 indicates a perfect negative linear relationship: \n",
    "As one variable increases, the other variable decreases proportionally.\n",
    "\n",
    "r=0 indicates no linear relationship between the variables."
   ]
  },
  {
   "cell_type": "markdown",
   "id": "8e733c94",
   "metadata": {},
   "source": [
    "The high positive correlations among these variables suggest a positive relationship between the variables."
   ]
  },
  {
   "cell_type": "markdown",
   "id": "3106c8ad",
   "metadata": {},
   "source": [
    "### Data Transformation"
   ]
  },
  {
   "cell_type": "code",
   "execution_count": 86,
   "id": "e0cb5863",
   "metadata": {},
   "outputs": [
    {
     "data": {
      "text/plain": [
       "Bachelor's    191\n",
       "Master's       91\n",
       "PhD            42\n",
       "Name: Education Level, dtype: int64"
      ]
     },
     "execution_count": 86,
     "metadata": {},
     "output_type": "execute_result"
    }
   ],
   "source": [
    "df['Education Level'].value_counts()"
   ]
  },
  {
   "cell_type": "code",
   "execution_count": 87,
   "id": "ece43415",
   "metadata": {},
   "outputs": [],
   "source": [
    "'''This line imports the LabelEncoder class from the sklearn.preprocessing module.\n",
    "LabelEncoder is used to convert categorical labels into numerical values.\n",
    "\n",
    "'''\n",
    "from sklearn.preprocessing import LabelEncoder "
   ]
  },
  {
   "cell_type": "code",
   "execution_count": 88,
   "id": "249f6223",
   "metadata": {},
   "outputs": [],
   "source": [
    "'''This line initializes an instance of the LabelEncoder class, \n",
    "which will be used to transform categorical labels into numerical values.\n",
    "\n",
    "'''\n",
    "\n",
    "le = LabelEncoder()"
   ]
  },
  {
   "cell_type": "code",
   "execution_count": 89,
   "id": "9bf323a6",
   "metadata": {},
   "outputs": [
    {
     "data": {
      "text/html": [
       "<div>\n",
       "<style scoped>\n",
       "    .dataframe tbody tr th:only-of-type {\n",
       "        vertical-align: middle;\n",
       "    }\n",
       "\n",
       "    .dataframe tbody tr th {\n",
       "        vertical-align: top;\n",
       "    }\n",
       "\n",
       "    .dataframe thead th {\n",
       "        text-align: right;\n",
       "    }\n",
       "</style>\n",
       "<table border=\"1\" class=\"dataframe\">\n",
       "  <thead>\n",
       "    <tr style=\"text-align: right;\">\n",
       "      <th></th>\n",
       "      <th>Gender</th>\n",
       "      <th>Education Level</th>\n",
       "      <th>Job Title</th>\n",
       "    </tr>\n",
       "  </thead>\n",
       "  <tbody>\n",
       "    <tr>\n",
       "      <th>0</th>\n",
       "      <td>Male</td>\n",
       "      <td>Bachelor's</td>\n",
       "      <td>Software Engineer</td>\n",
       "    </tr>\n",
       "    <tr>\n",
       "      <th>1</th>\n",
       "      <td>Female</td>\n",
       "      <td>Master's</td>\n",
       "      <td>Data Analyst</td>\n",
       "    </tr>\n",
       "    <tr>\n",
       "      <th>2</th>\n",
       "      <td>Male</td>\n",
       "      <td>PhD</td>\n",
       "      <td>Senior Manager</td>\n",
       "    </tr>\n",
       "    <tr>\n",
       "      <th>3</th>\n",
       "      <td>Female</td>\n",
       "      <td>Bachelor's</td>\n",
       "      <td>Sales Associate</td>\n",
       "    </tr>\n",
       "    <tr>\n",
       "      <th>4</th>\n",
       "      <td>Male</td>\n",
       "      <td>Master's</td>\n",
       "      <td>Director</td>\n",
       "    </tr>\n",
       "    <tr>\n",
       "      <th>...</th>\n",
       "      <td>...</td>\n",
       "      <td>...</td>\n",
       "      <td>...</td>\n",
       "    </tr>\n",
       "    <tr>\n",
       "      <th>348</th>\n",
       "      <td>Female</td>\n",
       "      <td>Bachelor's</td>\n",
       "      <td>Junior Operations Manager</td>\n",
       "    </tr>\n",
       "    <tr>\n",
       "      <th>349</th>\n",
       "      <td>Male</td>\n",
       "      <td>Bachelor's</td>\n",
       "      <td>Senior Business Development Manager</td>\n",
       "    </tr>\n",
       "    <tr>\n",
       "      <th>350</th>\n",
       "      <td>Female</td>\n",
       "      <td>PhD</td>\n",
       "      <td>Senior Data Scientist</td>\n",
       "    </tr>\n",
       "    <tr>\n",
       "      <th>351</th>\n",
       "      <td>Male</td>\n",
       "      <td>Bachelor's</td>\n",
       "      <td>Junior Marketing Coordinator</td>\n",
       "    </tr>\n",
       "    <tr>\n",
       "      <th>371</th>\n",
       "      <td>Male</td>\n",
       "      <td>Master's</td>\n",
       "      <td>Director of Operations</td>\n",
       "    </tr>\n",
       "  </tbody>\n",
       "</table>\n",
       "<p>324 rows × 3 columns</p>\n",
       "</div>"
      ],
      "text/plain": [
       "     Gender Education Level                            Job Title\n",
       "0      Male      Bachelor's                    Software Engineer\n",
       "1    Female        Master's                         Data Analyst\n",
       "2      Male             PhD                       Senior Manager\n",
       "3    Female      Bachelor's                      Sales Associate\n",
       "4      Male        Master's                             Director\n",
       "..      ...             ...                                  ...\n",
       "348  Female      Bachelor's            Junior Operations Manager\n",
       "349    Male      Bachelor's  Senior Business Development Manager\n",
       "350  Female             PhD                Senior Data Scientist\n",
       "351    Male      Bachelor's         Junior Marketing Coordinator\n",
       "371    Male        Master's               Director of Operations\n",
       "\n",
       "[324 rows x 3 columns]"
      ]
     },
     "execution_count": 89,
     "metadata": {},
     "output_type": "execute_result"
    }
   ],
   "source": [
    "cat_features"
   ]
  },
  {
   "cell_type": "markdown",
   "id": "0745c2e7",
   "metadata": {},
   "source": [
    "In the code below \n",
    "\n",
    "The first line starts a loop that iterates over each column in the DataFrame cat_features which  contains only categorical columns.\n",
    "\n",
    "Inside the loop, it applies label encoding to each categorical column.\n",
    "\n",
    "The fit_transform() method of the LabelEncoder class fits the encoder to the unique values of the column and then transforms the labels into numerical values.\n",
    "\n",
    "The transformed numerical values are assigned back to the corresponding column in the DataFrame df, replacing the original categorical values with numerical representations."
   ]
  },
  {
   "cell_type": "code",
   "execution_count": 90,
   "id": "050bda26",
   "metadata": {},
   "outputs": [],
   "source": [
    "for column in cat_features.columns:\n",
    "    df[column] = le.fit_transform(df[column])   #df['gender'] = le.fit_transform(df['Gender'])"
   ]
  },
  {
   "cell_type": "code",
   "execution_count": 91,
   "id": "84ad577d",
   "metadata": {},
   "outputs": [
    {
     "data": {
      "text/html": [
       "<div>\n",
       "<style scoped>\n",
       "    .dataframe tbody tr th:only-of-type {\n",
       "        vertical-align: middle;\n",
       "    }\n",
       "\n",
       "    .dataframe tbody tr th {\n",
       "        vertical-align: top;\n",
       "    }\n",
       "\n",
       "    .dataframe thead th {\n",
       "        text-align: right;\n",
       "    }\n",
       "</style>\n",
       "<table border=\"1\" class=\"dataframe\">\n",
       "  <thead>\n",
       "    <tr style=\"text-align: right;\">\n",
       "      <th></th>\n",
       "      <th>Age</th>\n",
       "      <th>Gender</th>\n",
       "      <th>Education Level</th>\n",
       "      <th>Job Title</th>\n",
       "      <th>Years of Experience</th>\n",
       "      <th>Salary</th>\n",
       "    </tr>\n",
       "  </thead>\n",
       "  <tbody>\n",
       "    <tr>\n",
       "      <th>0</th>\n",
       "      <td>32</td>\n",
       "      <td>1</td>\n",
       "      <td>0</td>\n",
       "      <td>159</td>\n",
       "      <td>5</td>\n",
       "      <td>90000.0</td>\n",
       "    </tr>\n",
       "    <tr>\n",
       "      <th>1</th>\n",
       "      <td>28</td>\n",
       "      <td>0</td>\n",
       "      <td>1</td>\n",
       "      <td>17</td>\n",
       "      <td>3</td>\n",
       "      <td>65000.0</td>\n",
       "    </tr>\n",
       "    <tr>\n",
       "      <th>2</th>\n",
       "      <td>45</td>\n",
       "      <td>1</td>\n",
       "      <td>2</td>\n",
       "      <td>130</td>\n",
       "      <td>15</td>\n",
       "      <td>150000.0</td>\n",
       "    </tr>\n",
       "    <tr>\n",
       "      <th>3</th>\n",
       "      <td>36</td>\n",
       "      <td>0</td>\n",
       "      <td>0</td>\n",
       "      <td>101</td>\n",
       "      <td>7</td>\n",
       "      <td>60000.0</td>\n",
       "    </tr>\n",
       "    <tr>\n",
       "      <th>4</th>\n",
       "      <td>52</td>\n",
       "      <td>1</td>\n",
       "      <td>1</td>\n",
       "      <td>22</td>\n",
       "      <td>20</td>\n",
       "      <td>200000.0</td>\n",
       "    </tr>\n",
       "  </tbody>\n",
       "</table>\n",
       "</div>"
      ],
      "text/plain": [
       "   Age  Gender  Education Level  Job Title  Years of Experience    Salary\n",
       "0   32       1                0        159                    5   90000.0\n",
       "1   28       0                1         17                    3   65000.0\n",
       "2   45       1                2        130                   15  150000.0\n",
       "3   36       0                0        101                    7   60000.0\n",
       "4   52       1                1         22                   20  200000.0"
      ]
     },
     "execution_count": 91,
     "metadata": {},
     "output_type": "execute_result"
    }
   ],
   "source": [
    "df.head()"
   ]
  },
  {
   "cell_type": "code",
   "execution_count": 92,
   "id": "8d2a51c2",
   "metadata": {},
   "outputs": [
    {
     "data": {
      "text/plain": [
       "1    170\n",
       "0    154\n",
       "Name: Gender, dtype: int64"
      ]
     },
     "execution_count": 92,
     "metadata": {},
     "output_type": "execute_result"
    }
   ],
   "source": [
    "df['Gender'].value_counts()"
   ]
  },
  {
   "cell_type": "markdown",
   "id": "f816027e",
   "metadata": {},
   "source": [
    "### Feature selection"
   ]
  },
  {
   "cell_type": "markdown",
   "id": "88257a12",
   "metadata": {},
   "source": [
    "X = df[['Years of Experience']] #Feature\n",
    "\n",
    "This line creates a DataFrame X containing the feature(s) you want to use for prediction. Here, we are selecting the 'Years of Experience' column as the feature.\n",
    "By using double square brackets [['Years of Experience']], we specifying that X should be a DataFrame with a single column.\n",
    "\n",
    "y = df['Salary']    #Label/target\n",
    "\n",
    "This line creates a Series y containing the target variable you want to predict. Here, we are selecting the 'Salary' column from the DataFrame df.\n",
    "y will contain the values you want your model to predict based on the features provided in X."
   ]
  },
  {
   "cell_type": "code",
   "execution_count": 93,
   "id": "65fa4c5e",
   "metadata": {},
   "outputs": [],
   "source": [
    "X = df[['Years of Experience']] #Feature\n",
    "y = df['Salary']    #Label/target"
   ]
  },
  {
   "cell_type": "code",
   "execution_count": 94,
   "id": "37e8785a",
   "metadata": {},
   "outputs": [],
   "source": [
    "'''This block of code splits your dataset into training and testing sets using train_test_split() from scikit-learn.\n",
    "X is the feature data, and y is the target variable.\n",
    "test_size=0.3 specifies that 30% of the data will be used for testing, and 70% will be used for training.\n",
    "random_state=0 ensures reproducibility by fixing the random seed.\n",
    "\n",
    "'''\n",
    "from sklearn.model_selection import train_test_split\n",
    "X_train, X_test, y_train, y_test = train_test_split(X, y, test_size=0.3, random_state=0)"
   ]
  },
  {
   "cell_type": "code",
   "execution_count": 95,
   "id": "e4fec2a2",
   "metadata": {},
   "outputs": [
    {
     "name": "stdout",
     "output_type": "stream",
     "text": [
      "LinearRegression()\n"
     ]
    }
   ],
   "source": [
    "#This line imports the LinearRegression class from scikit-learn.\n",
    "from sklearn.linear_model import LinearRegression\n",
    "\n",
    "#This line creates an instance of the LinearRegression model and fits it to the training data (X_train and y_train) using the fit() method.\n",
    "#The model learns the coefficients (weights) for the linear regression equation that best fits the training data.\n",
    "\n",
    "model = LinearRegression().fit(X_train, y_train)\n",
    "print (model)"
   ]
  },
  {
   "cell_type": "code",
   "execution_count": 96,
   "id": "65451e99",
   "metadata": {},
   "outputs": [
    {
     "data": {
      "text/plain": [
       "array([6781.73195064])"
      ]
     },
     "execution_count": 96,
     "metadata": {},
     "output_type": "execute_result"
    }
   ],
   "source": [
    "#This line retrieves the coefficients (slopes) of the linear regression model.\n",
    "\n",
    "model.coef_"
   ]
  },
  {
   "cell_type": "code",
   "execution_count": 97,
   "id": "1162d3e8",
   "metadata": {},
   "outputs": [
    {
     "data": {
      "text/plain": [
       "33171.11202514991"
      ]
     },
     "execution_count": 97,
     "metadata": {},
     "output_type": "execute_result"
    }
   ],
   "source": [
    "#This line retrieves the intercept of the linear regression model.\n",
    "\n",
    "model.intercept_"
   ]
  },
  {
   "cell_type": "markdown",
   "id": "9fc35cd3",
   "metadata": {},
   "source": [
    "Regression formular\n",
    "y = 33171.11202514991 + 6781.73195064X\n",
    "\n",
    "Y= B0 + B1 X.\n",
    "\n",
    "In the regression formula, y represents the predicted salary, X represents the years of experience, 33171.11202514991 is the intercept term, and 6781.73195064 is the coefficient for the years of experience. \n",
    "\n",
    "This formula can be used to predict salaries based on years of experience using the trained linear regression model."
   ]
  },
  {
   "cell_type": "code",
   "execution_count": 98,
   "id": "b9d0c2de",
   "metadata": {
    "scrolled": true
   },
   "outputs": [
    {
     "name": "stdout",
     "output_type": "stream",
     "text": [
      "MSE: 342488998.5162043\n",
      "RMSE: 18506.458292072104\n",
      "R2: 0.8482469777979225\n"
     ]
    }
   ],
   "source": [
    "#evaluating the performance of your linear regression model using various regression metrics\n",
    "from sklearn.metrics import mean_squared_error, r2_score\n",
    "\n",
    "predictions = model.predict(X_test)\n",
    "\n",
    "mse = mean_squared_error(y_test, predictions)\n",
    "print(\"MSE:\", mse)\n",
    "\n",
    "rmse = np.sqrt(mse)\n",
    "print(\"RMSE:\", rmse)\n",
    "\n",
    "r2 = r2_score(y_test, predictions)\n",
    "print(\"R2:\", r2)"
   ]
  },
  {
   "cell_type": "markdown",
   "id": "e8245aaf",
   "metadata": {},
   "source": [
    "- from sklearn.metrics import mean_squared_error, r2_score\n",
    "\n",
    "This line imports the necessary functions mean_squared_error and r2_score from scikit-learn for evaluating the performance of the model.\n",
    "\n",
    "- predictions = model.predict(X_test)\n",
    "\n",
    "This line generates predictions for the target variable using the trained linear regression model (model) and the test feature data (X_test).\n",
    "\n",
    "- mse = mean_squared_error(y_test, predictions)\n",
    "print(\"MSE:\", mse)\n",
    "\n",
    "This line calculates the mean squared error (MSE) between the actual target values (y_test) and the predicted values (predictions) using the mean_squared_error function.\n",
    "MSE measures the average squared difference between the predicted values and the actual values. Lower MSE values indicate better model performance.\n",
    "- rmse = np.sqrt(mse)\n",
    "print(\"RMSE:\", rmse)\n",
    "\n",
    "This line calculates the root mean squared error (RMSE) by taking the square root of the MSE.\n",
    "RMSE is a more interpretable metric than MSE, as it represents the average deviation of the predicted values from the actual values in the original units of the target variable.\n",
    "\n",
    "-  r2 = r2_score(y_test, predictions)\n",
    "print(\"R2:\", r2)\n",
    "\n",
    "This line calculates the coefficient of determination (R-squared) using the r2_score function.\n",
    "R-squared measures the proportion of the variance in the target variable that is explained by the model. It ranges from 0 to 1, where higher values indicate better model fit to the data\n",
    "\n",
    "\n",
    "-  (R-squared) value measures how well the linear regression model explains the variation in the target variable  based on the provided feature\n",
    "  \n",
    "-  An R2 value of 0 means that the model does not explain any of the variability in the salaries(target) . It's as if the model is not providing any useful information about why salaries differ between individuals.\n",
    "\n",
    "- An R2  value of 1 means that the model perfectly explains all the variability in the salaries(target variable). It's as if the model can accurately predict every individual's salary solely based on their years of experience (feature)\n",
    "\n",
    "The R2 value for the linear regression model created  is approximately 0.85, which means that the model explains about 85% of the variability in salaries based on years of experience, suggesting that the model performs relatively well in predicting salaries based on years of experience."
   ]
  },
  {
   "cell_type": "markdown",
   "id": "c624b3c3",
   "metadata": {},
   "source": [
    "### Multi linear regression"
   ]
  },
  {
   "cell_type": "code",
   "execution_count": 99,
   "id": "5bc0d0db",
   "metadata": {},
   "outputs": [],
   "source": [
    "X = df[['Years of Experience','Age','Education Level']]\n",
    "y = df['Salary']\n",
    "\n",
    "#here, we are selecting three columns as the features: 'Years of Experience', 'Age', and 'Education Level'."
   ]
  },
  {
   "cell_type": "markdown",
   "id": "9fffee67",
   "metadata": {},
   "source": [
    "###### You can also use SelectKBest with a simple setup to choose the top  features based on various scoring functions like chi2, f-regression etc\n",
    "\n",
    "from sklearn.feature_selection import SelectKBest, chi2\n",
    "X_new = SelectKBest(k=2).fit_transform(X,y)\n",
    "\n",
    "from sklearn.feature_selection import SelectKBest: \n",
    "This imports the SelectKBest class, which is used for feature selection based on univariate statistical tests.\n",
    "\n",
    "\n",
    "X_new = SelectKBest(k=2).fit_transform(X, y): This line creates a new feature matrix X_new containing only the top 2 features selected by the default scoring function of SelectKBest.\n",
    "\n",
    "k=2 specifies that you want to select the top 2 features.\n",
    ".fit_transform(X, y) fits the feature selection model to the data (X and y) and transforms X to contain only the selected features."
   ]
  },
  {
   "cell_type": "code",
   "execution_count": 100,
   "id": "d7e080ac",
   "metadata": {},
   "outputs": [
    {
     "data": {
      "text/plain": [
       "0       90000.0\n",
       "1       65000.0\n",
       "2      150000.0\n",
       "3       60000.0\n",
       "4      200000.0\n",
       "         ...   \n",
       "348     35000.0\n",
       "349    110000.0\n",
       "350    160000.0\n",
       "351     55000.0\n",
       "371    170000.0\n",
       "Name: Salary, Length: 324, dtype: float64"
      ]
     },
     "execution_count": 100,
     "metadata": {},
     "output_type": "execute_result"
    }
   ],
   "source": [
    "y"
   ]
  },
  {
   "cell_type": "code",
   "execution_count": 101,
   "id": "ec5c02e6",
   "metadata": {},
   "outputs": [
    {
     "data": {
      "text/html": [
       "<div>\n",
       "<style scoped>\n",
       "    .dataframe tbody tr th:only-of-type {\n",
       "        vertical-align: middle;\n",
       "    }\n",
       "\n",
       "    .dataframe tbody tr th {\n",
       "        vertical-align: top;\n",
       "    }\n",
       "\n",
       "    .dataframe thead th {\n",
       "        text-align: right;\n",
       "    }\n",
       "</style>\n",
       "<table border=\"1\" class=\"dataframe\">\n",
       "  <thead>\n",
       "    <tr style=\"text-align: right;\">\n",
       "      <th></th>\n",
       "      <th>Years of Experience</th>\n",
       "      <th>Age</th>\n",
       "      <th>Education Level</th>\n",
       "    </tr>\n",
       "  </thead>\n",
       "  <tbody>\n",
       "    <tr>\n",
       "      <th>0</th>\n",
       "      <td>5</td>\n",
       "      <td>32</td>\n",
       "      <td>0</td>\n",
       "    </tr>\n",
       "    <tr>\n",
       "      <th>1</th>\n",
       "      <td>3</td>\n",
       "      <td>28</td>\n",
       "      <td>1</td>\n",
       "    </tr>\n",
       "    <tr>\n",
       "      <th>2</th>\n",
       "      <td>15</td>\n",
       "      <td>45</td>\n",
       "      <td>2</td>\n",
       "    </tr>\n",
       "    <tr>\n",
       "      <th>3</th>\n",
       "      <td>7</td>\n",
       "      <td>36</td>\n",
       "      <td>0</td>\n",
       "    </tr>\n",
       "    <tr>\n",
       "      <th>4</th>\n",
       "      <td>20</td>\n",
       "      <td>52</td>\n",
       "      <td>1</td>\n",
       "    </tr>\n",
       "    <tr>\n",
       "      <th>...</th>\n",
       "      <td>...</td>\n",
       "      <td>...</td>\n",
       "      <td>...</td>\n",
       "    </tr>\n",
       "    <tr>\n",
       "      <th>348</th>\n",
       "      <td>1</td>\n",
       "      <td>28</td>\n",
       "      <td>0</td>\n",
       "    </tr>\n",
       "    <tr>\n",
       "      <th>349</th>\n",
       "      <td>8</td>\n",
       "      <td>36</td>\n",
       "      <td>0</td>\n",
       "    </tr>\n",
       "    <tr>\n",
       "      <th>350</th>\n",
       "      <td>16</td>\n",
       "      <td>44</td>\n",
       "      <td>2</td>\n",
       "    </tr>\n",
       "    <tr>\n",
       "      <th>351</th>\n",
       "      <td>3</td>\n",
       "      <td>31</td>\n",
       "      <td>0</td>\n",
       "    </tr>\n",
       "    <tr>\n",
       "      <th>371</th>\n",
       "      <td>19</td>\n",
       "      <td>43</td>\n",
       "      <td>1</td>\n",
       "    </tr>\n",
       "  </tbody>\n",
       "</table>\n",
       "<p>324 rows × 3 columns</p>\n",
       "</div>"
      ],
      "text/plain": [
       "     Years of Experience  Age  Education Level\n",
       "0                      5   32                0\n",
       "1                      3   28                1\n",
       "2                     15   45                2\n",
       "3                      7   36                0\n",
       "4                     20   52                1\n",
       "..                   ...  ...              ...\n",
       "348                    1   28                0\n",
       "349                    8   36                0\n",
       "350                   16   44                2\n",
       "351                    3   31                0\n",
       "371                   19   43                1\n",
       "\n",
       "[324 rows x 3 columns]"
      ]
     },
     "execution_count": 101,
     "metadata": {},
     "output_type": "execute_result"
    }
   ],
   "source": [
    "X"
   ]
  },
  {
   "cell_type": "code",
   "execution_count": 102,
   "id": "be310a9a",
   "metadata": {},
   "outputs": [],
   "source": [
    "## Split the dataset \n",
    "\n",
    "from sklearn.model_selection import train_test_split\n",
    "X_train, X_test, y_train, y_test = train_test_split(X, y, test_size=0.3, random_state=0)"
   ]
  },
  {
   "cell_type": "code",
   "execution_count": 103,
   "id": "acd2f0c0",
   "metadata": {},
   "outputs": [
    {
     "name": "stdout",
     "output_type": "stream",
     "text": [
      "LinearRegression()\n"
     ]
    }
   ],
   "source": [
    "# Fit a linear regression model on the training set\n",
    "model = LinearRegression().fit(X_train, y_train)\n",
    "print (model)"
   ]
  },
  {
   "cell_type": "code",
   "execution_count": 104,
   "id": "d8983d88",
   "metadata": {},
   "outputs": [
    {
     "data": {
      "text/plain": [
       "-24399.483622194806"
      ]
     },
     "execution_count": 104,
     "metadata": {},
     "output_type": "execute_result"
    }
   ],
   "source": [
    "model.intercept_"
   ]
  },
  {
   "cell_type": "code",
   "execution_count": 105,
   "id": "3410ea9c",
   "metadata": {},
   "outputs": [
    {
     "data": {
      "text/plain": [
       "array([ 3641.33168166,  2193.55614758, 13587.88314402])"
      ]
     },
     "execution_count": 105,
     "metadata": {},
     "output_type": "execute_result"
    }
   ],
   "source": [
    "model.coef_"
   ]
  },
  {
   "cell_type": "markdown",
   "id": "ee4b5780",
   "metadata": {},
   "source": [
    "y = -24399.48 + 3641.33(x1) +2193.55(x2) + 13587.88(x3)"
   ]
  },
  {
   "cell_type": "code",
   "execution_count": 106,
   "id": "19891846",
   "metadata": {},
   "outputs": [
    {
     "name": "stdout",
     "output_type": "stream",
     "text": [
      "MSE: 255334154.19669232\n",
      "RMSE: 15979.178771034896\n",
      "R2: 0.89\n"
     ]
    }
   ],
   "source": [
    "predictions = model.predict(X_test)\n",
    "\n",
    "mse = mean_squared_error(y_test, predictions)\n",
    "print(\"MSE:\", mse)\n",
    "\n",
    "rmse = np.sqrt(mse)\n",
    "print(\"RMSE:\", rmse)\n",
    "\n",
    "r2 = r2_score(y_test, predictions)\n",
    "print(\"R2:\", round(r2,2))"
   ]
  },
  {
   "cell_type": "code",
   "execution_count": 107,
   "id": "4aea886d",
   "metadata": {},
   "outputs": [
    {
     "data": {
      "text/plain": [
       "0.8841223972445522"
      ]
     },
     "execution_count": 107,
     "metadata": {},
     "output_type": "execute_result"
    }
   ],
   "source": [
    "r2_score(y_train, model.predict(X_train))"
   ]
  },
  {
   "cell_type": "markdown",
   "id": "3e192424",
   "metadata": {},
   "source": [
    "#### Decision Tree Regressor"
   ]
  },
  {
   "cell_type": "markdown",
   "id": "9cee754a",
   "metadata": {},
   "source": [
    "The code snippet below import the DecisionTreeRegressor class, which is used to create a decision tree model for regression tasks, and the export_text function, which is used to visualize the decision tree in text format\n",
    "\n",
    "An instance of the DecisionTreeRegressor model (dt_model) is created and trained using the fit() method with the feature matrix X and target variable y. This allows the model to learn to predict the target variable based on the features using a decision tree algorithm.\n",
    "\n",
    "The export_text() function from scikit-learn is used to generate a text representation of the decision tree model (dt_model).\n",
    "The resulting textual description of the decision tree structure is stored in the tree variable.\n",
    "The tree variable is then printed using the print() function, allowing for inspection of the decision tree structure in text format. This includes details about the splitting criteria at each node and the features used for splitting\n"
   ]
  },
  {
   "cell_type": "code",
   "execution_count": 93,
   "id": "d66d706a",
   "metadata": {},
   "outputs": [
    {
     "name": "stdout",
     "output_type": "stream",
     "text": [
      "DecisionTreeRegressor() \n",
      "\n",
      "|--- feature_1 <= 40.50\n",
      "|   |--- feature_0 <= 5.50\n",
      "|   |   |--- feature_0 <= 2.50\n",
      "|   |   |   |--- feature_2 <= 0.50\n",
      "|   |   |   |   |--- feature_0 <= 1.50\n",
      "|   |   |   |   |   |--- feature_1 <= 28.50\n",
      "|   |   |   |   |   |   |--- feature_0 <= 0.50\n",
      "|   |   |   |   |   |   |   |--- feature_1 <= 24.00\n",
      "|   |   |   |   |   |   |   |   |--- value: [35000.00]\n",
      "|   |   |   |   |   |   |   |--- feature_1 >  24.00\n",
      "|   |   |   |   |   |   |   |   |--- value: [33333.33]\n",
      "|   |   |   |   |   |   |--- feature_0 >  0.50\n",
      "|   |   |   |   |   |   |   |--- feature_1 <= 26.50\n",
      "|   |   |   |   |   |   |   |   |--- feature_1 <= 25.00\n",
      "|   |   |   |   |   |   |   |   |   |--- value: [40000.00]\n",
      "|   |   |   |   |   |   |   |   |--- feature_1 >  25.00\n",
      "|   |   |   |   |   |   |   |   |   |--- value: [38750.00]\n",
      "|   |   |   |   |   |   |   |--- feature_1 >  26.50\n",
      "|   |   |   |   |   |   |   |   |--- value: [35000.00]\n",
      "|   |   |   |   |   |--- feature_1 >  28.50\n",
      "|   |   |   |   |   |   |--- value: [30070.00]\n",
      "|   |   |   |   |--- feature_0 >  1.50\n",
      "|   |   |   |   |   |--- feature_1 <= 26.50\n",
      "|   |   |   |   |   |   |--- value: [37500.00]\n",
      "|   |   |   |   |   |--- feature_1 >  26.50\n",
      "|   |   |   |   |   |   |--- feature_1 <= 28.50\n",
      "|   |   |   |   |   |   |   |--- feature_1 <= 27.50\n",
      "|   |   |   |   |   |   |   |   |--- value: [42500.00]\n",
      "|   |   |   |   |   |   |   |--- feature_1 >  27.50\n",
      "|   |   |   |   |   |   |   |   |--- value: [40000.00]\n",
      "|   |   |   |   |   |   |--- feature_1 >  28.50\n",
      "|   |   |   |   |   |   |   |--- feature_1 <= 29.50\n",
      "|   |   |   |   |   |   |   |   |--- value: [42142.86]\n",
      "|   |   |   |   |   |   |   |--- feature_1 >  29.50\n",
      "|   |   |   |   |   |   |   |   |--- value: [42000.00]\n",
      "|   |   |   |--- feature_2 >  0.50\n",
      "|   |   |   |   |--- feature_0 <= 1.50\n",
      "|   |   |   |   |   |--- feature_1 <= 25.50\n",
      "|   |   |   |   |   |   |--- value: [40000.00]\n",
      "|   |   |   |   |   |--- feature_1 >  25.50\n",
      "|   |   |   |   |   |   |--- feature_1 <= 26.50\n",
      "|   |   |   |   |   |   |   |--- value: [45000.00]\n",
      "|   |   |   |   |   |   |--- feature_1 >  26.50\n",
      "|   |   |   |   |   |   |   |--- value: [47500.00]\n",
      "|   |   |   |   |--- feature_0 >  1.50\n",
      "|   |   |   |   |   |--- value: [65000.00]\n",
      "|   |   |--- feature_0 >  2.50\n",
      "|   |   |   |--- feature_2 <= 0.50\n",
      "|   |   |   |   |--- feature_1 <= 31.50\n",
      "|   |   |   |   |   |--- feature_0 <= 3.50\n",
      "|   |   |   |   |   |   |--- feature_1 <= 29.50\n",
      "|   |   |   |   |   |   |   |--- feature_1 <= 28.50\n",
      "|   |   |   |   |   |   |   |   |--- value: [45000.00]\n",
      "|   |   |   |   |   |   |   |--- feature_1 >  28.50\n",
      "|   |   |   |   |   |   |   |   |--- value: [45833.33]\n",
      "|   |   |   |   |   |   |--- feature_1 >  29.50\n",
      "|   |   |   |   |   |   |   |--- feature_1 <= 30.50\n",
      "|   |   |   |   |   |   |   |   |--- value: [49285.71]\n",
      "|   |   |   |   |   |   |   |--- feature_1 >  30.50\n",
      "|   |   |   |   |   |   |   |   |--- value: [50625.00]\n",
      "|   |   |   |   |   |--- feature_0 >  3.50\n",
      "|   |   |   |   |   |   |--- feature_0 <= 4.50\n",
      "|   |   |   |   |   |   |   |--- feature_1 <= 30.50\n",
      "|   |   |   |   |   |   |   |   |--- value: [52500.00]\n",
      "|   |   |   |   |   |   |   |--- feature_1 >  30.50\n",
      "|   |   |   |   |   |   |   |   |--- value: [57500.00]\n",
      "|   |   |   |   |   |   |--- feature_0 >  4.50\n",
      "|   |   |   |   |   |   |   |--- value: [45000.00]\n",
      "|   |   |   |   |--- feature_1 >  31.50\n",
      "|   |   |   |   |   |--- feature_0 <= 3.50\n",
      "|   |   |   |   |   |   |--- value: [50000.00]\n",
      "|   |   |   |   |   |--- feature_0 >  3.50\n",
      "|   |   |   |   |   |   |--- feature_0 <= 4.50\n",
      "|   |   |   |   |   |   |   |--- feature_1 <= 32.50\n",
      "|   |   |   |   |   |   |   |   |--- value: [60000.00]\n",
      "|   |   |   |   |   |   |   |--- feature_1 >  32.50\n",
      "|   |   |   |   |   |   |   |   |--- value: [60000.00]\n",
      "|   |   |   |   |   |   |--- feature_0 >  4.50\n",
      "|   |   |   |   |   |   |   |--- feature_1 <= 32.50\n",
      "|   |   |   |   |   |   |   |   |--- value: [67500.00]\n",
      "|   |   |   |   |   |   |   |--- feature_1 >  32.50\n",
      "|   |   |   |   |   |   |   |   |--- feature_1 <= 33.50\n",
      "|   |   |   |   |   |   |   |   |   |--- value: [61428.57]\n",
      "|   |   |   |   |   |   |   |   |--- feature_1 >  33.50\n",
      "|   |   |   |   |   |   |   |   |   |--- value: [70000.00]\n",
      "|   |   |   |--- feature_2 >  0.50\n",
      "|   |   |   |   |--- feature_1 <= 28.50\n",
      "|   |   |   |   |   |--- value: [65000.00]\n",
      "|   |   |   |   |--- feature_1 >  28.50\n",
      "|   |   |   |   |   |--- feature_0 <= 4.00\n",
      "|   |   |   |   |   |   |--- value: [75000.00]\n",
      "|   |   |   |   |   |--- feature_0 >  4.00\n",
      "|   |   |   |   |   |   |--- value: [80000.00]\n",
      "|   |--- feature_0 >  5.50\n",
      "|   |   |--- feature_0 <= 8.50\n",
      "|   |   |   |--- feature_2 <= 0.50\n",
      "|   |   |   |   |--- feature_0 <= 6.50\n",
      "|   |   |   |   |   |--- feature_1 <= 32.00\n",
      "|   |   |   |   |   |   |--- value: [55000.00]\n",
      "|   |   |   |   |   |--- feature_1 >  32.00\n",
      "|   |   |   |   |   |   |--- feature_1 <= 33.50\n",
      "|   |   |   |   |   |   |   |--- value: [65000.00]\n",
      "|   |   |   |   |   |   |--- feature_1 >  33.50\n",
      "|   |   |   |   |   |   |   |--- feature_1 <= 34.50\n",
      "|   |   |   |   |   |   |   |   |--- value: [70000.00]\n",
      "|   |   |   |   |   |   |   |--- feature_1 >  34.50\n",
      "|   |   |   |   |   |   |   |   |--- value: [65000.00]\n",
      "|   |   |   |   |--- feature_0 >  6.50\n",
      "|   |   |   |   |   |--- feature_0 <= 7.50\n",
      "|   |   |   |   |   |   |--- feature_1 <= 34.50\n",
      "|   |   |   |   |   |   |   |--- feature_1 <= 33.50\n",
      "|   |   |   |   |   |   |   |   |--- value: [87500.00]\n",
      "|   |   |   |   |   |   |   |--- feature_1 >  33.50\n",
      "|   |   |   |   |   |   |   |   |--- value: [92500.00]\n",
      "|   |   |   |   |   |   |--- feature_1 >  34.50\n",
      "|   |   |   |   |   |   |   |--- feature_1 <= 35.50\n",
      "|   |   |   |   |   |   |   |   |--- value: [78750.00]\n",
      "|   |   |   |   |   |   |   |--- feature_1 >  35.50\n",
      "|   |   |   |   |   |   |   |   |--- value: [67500.00]\n",
      "|   |   |   |   |   |--- feature_0 >  7.50\n",
      "|   |   |   |   |   |   |--- feature_1 <= 34.50\n",
      "|   |   |   |   |   |   |   |--- value: [90000.00]\n",
      "|   |   |   |   |   |   |--- feature_1 >  34.50\n",
      "|   |   |   |   |   |   |   |--- feature_1 <= 36.50\n",
      "|   |   |   |   |   |   |   |   |--- feature_1 <= 35.50\n",
      "|   |   |   |   |   |   |   |   |   |--- value: [86666.67]\n",
      "|   |   |   |   |   |   |   |   |--- feature_1 >  35.50\n",
      "|   |   |   |   |   |   |   |   |   |--- value: [87222.22]\n",
      "|   |   |   |   |   |   |   |--- feature_1 >  36.50\n",
      "|   |   |   |   |   |   |   |   |--- value: [90000.00]\n",
      "|   |   |   |--- feature_2 >  0.50\n",
      "|   |   |   |   |--- feature_0 <= 6.50\n",
      "|   |   |   |   |   |--- feature_1 <= 32.50\n",
      "|   |   |   |   |   |   |--- value: [95000.00]\n",
      "|   |   |   |   |   |--- feature_1 >  32.50\n",
      "|   |   |   |   |   |   |--- feature_1 <= 33.50\n",
      "|   |   |   |   |   |   |   |--- value: [92500.00]\n",
      "|   |   |   |   |   |   |--- feature_1 >  33.50\n",
      "|   |   |   |   |   |   |   |--- value: [90000.00]\n",
      "|   |   |   |   |--- feature_0 >  6.50\n",
      "|   |   |   |   |   |--- feature_1 <= 34.50\n",
      "|   |   |   |   |   |   |--- feature_1 <= 33.50\n",
      "|   |   |   |   |   |   |   |--- value: [96666.67]\n",
      "|   |   |   |   |   |   |--- feature_1 >  33.50\n",
      "|   |   |   |   |   |   |   |--- value: [97500.00]\n",
      "|   |   |   |   |   |--- feature_1 >  34.50\n",
      "|   |   |   |   |   |   |--- feature_0 <= 7.50\n",
      "|   |   |   |   |   |   |   |--- value: [105000.00]\n",
      "|   |   |   |   |   |   |--- feature_0 >  7.50\n",
      "|   |   |   |   |   |   |   |--- value: [95000.00]\n",
      "|   |   |--- feature_0 >  8.50\n",
      "|   |   |   |--- feature_2 <= 0.50\n",
      "|   |   |   |   |--- feature_0 <= 14.50\n",
      "|   |   |   |   |   |--- feature_1 <= 36.50\n",
      "|   |   |   |   |   |   |--- feature_1 <= 35.50\n",
      "|   |   |   |   |   |   |   |--- feature_1 <= 34.50\n",
      "|   |   |   |   |   |   |   |   |--- value: [100000.00]\n",
      "|   |   |   |   |   |   |   |--- feature_1 >  34.50\n",
      "|   |   |   |   |   |   |   |   |--- value: [97500.00]\n",
      "|   |   |   |   |   |   |--- feature_1 >  35.50\n",
      "|   |   |   |   |   |   |   |--- value: [85000.00]\n",
      "|   |   |   |   |   |--- feature_1 >  36.50\n",
      "|   |   |   |   |   |   |--- feature_0 <= 9.50\n",
      "|   |   |   |   |   |   |   |--- feature_1 <= 37.50\n",
      "|   |   |   |   |   |   |   |   |--- value: [98333.33]\n",
      "|   |   |   |   |   |   |   |--- feature_1 >  37.50\n",
      "|   |   |   |   |   |   |   |   |--- feature_1 <= 38.50\n",
      "|   |   |   |   |   |   |   |   |   |--- value: [120000.00]\n",
      "|   |   |   |   |   |   |   |   |--- feature_1 >  38.50\n",
      "|   |   |   |   |   |   |   |   |   |--- value: [110000.00]\n",
      "|   |   |   |   |   |   |--- feature_0 >  9.50\n",
      "|   |   |   |   |   |   |   |--- feature_1 <= 37.50\n",
      "|   |   |   |   |   |   |   |   |--- value: [111666.67]\n",
      "|   |   |   |   |   |   |   |--- feature_1 >  37.50\n",
      "|   |   |   |   |   |   |   |   |--- feature_1 <= 39.50\n",
      "|   |   |   |   |   |   |   |   |   |--- feature_0 <= 10.50\n",
      "|   |   |   |   |   |   |   |   |   |   |--- feature_1 <= 38.50\n",
      "|   |   |   |   |   |   |   |   |   |   |   |--- value: [97500.00]\n",
      "|   |   |   |   |   |   |   |   |   |   |--- feature_1 >  38.50\n",
      "|   |   |   |   |   |   |   |   |   |   |   |--- value: [90000.00]\n",
      "|   |   |   |   |   |   |   |   |   |--- feature_0 >  10.50\n",
      "|   |   |   |   |   |   |   |   |   |   |--- feature_0 <= 11.50\n",
      "|   |   |   |   |   |   |   |   |   |   |   |--- truncated branch of depth 2\n",
      "|   |   |   |   |   |   |   |   |   |   |--- feature_0 >  11.50\n",
      "|   |   |   |   |   |   |   |   |   |   |   |--- value: [95000.00]\n",
      "|   |   |   |   |   |   |   |   |--- feature_1 >  39.50\n",
      "|   |   |   |   |   |   |   |   |   |--- feature_0 <= 13.00\n",
      "|   |   |   |   |   |   |   |   |   |   |--- feature_0 <= 11.50\n",
      "|   |   |   |   |   |   |   |   |   |   |   |--- value: [105000.00]\n",
      "|   |   |   |   |   |   |   |   |   |   |--- feature_0 >  11.50\n",
      "|   |   |   |   |   |   |   |   |   |   |   |--- value: [100000.00]\n",
      "|   |   |   |   |   |   |   |   |   |--- feature_0 >  13.00\n",
      "|   |   |   |   |   |   |   |   |   |   |--- value: [110000.00]\n",
      "|   |   |   |   |--- feature_0 >  14.50\n",
      "|   |   |   |   |   |--- value: [72500.00]\n",
      "|   |   |   |--- feature_2 >  0.50\n",
      "|   |   |   |   |--- feature_0 <= 13.50\n",
      "|   |   |   |   |   |--- feature_2 <= 1.50\n",
      "|   |   |   |   |   |   |--- feature_1 <= 37.50\n",
      "|   |   |   |   |   |   |   |--- feature_1 <= 34.50\n",
      "|   |   |   |   |   |   |   |   |--- feature_0 <= 9.50\n",
      "|   |   |   |   |   |   |   |   |   |--- value: [105000.00]\n",
      "|   |   |   |   |   |   |   |   |--- feature_0 >  9.50\n",
      "|   |   |   |   |   |   |   |   |   |--- value: [95000.00]\n",
      "|   |   |   |   |   |   |   |--- feature_1 >  34.50\n",
      "|   |   |   |   |   |   |   |   |--- feature_1 <= 36.50\n",
      "|   |   |   |   |   |   |   |   |   |--- feature_0 <= 9.50\n",
      "|   |   |   |   |   |   |   |   |   |   |--- value: [110000.00]\n",
      "|   |   |   |   |   |   |   |   |   |--- feature_0 >  9.50\n",
      "|   |   |   |   |   |   |   |   |   |   |--- value: [120000.00]\n",
      "|   |   |   |   |   |   |   |   |--- feature_1 >  36.50\n",
      "|   |   |   |   |   |   |   |   |   |--- feature_0 <= 10.00\n",
      "|   |   |   |   |   |   |   |   |   |   |--- value: [103750.00]\n",
      "|   |   |   |   |   |   |   |   |   |--- feature_0 >  10.00\n",
      "|   |   |   |   |   |   |   |   |   |   |--- value: [110000.00]\n",
      "|   |   |   |   |   |   |--- feature_1 >  37.50\n",
      "|   |   |   |   |   |   |   |--- feature_1 <= 39.50\n",
      "|   |   |   |   |   |   |   |   |--- feature_0 <= 9.50\n",
      "|   |   |   |   |   |   |   |   |   |--- value: [110000.00]\n",
      "|   |   |   |   |   |   |   |   |--- feature_0 >  9.50\n",
      "|   |   |   |   |   |   |   |   |   |--- feature_0 <= 11.50\n",
      "|   |   |   |   |   |   |   |   |   |   |--- value: [90000.00]\n",
      "|   |   |   |   |   |   |   |   |   |--- feature_0 >  11.50\n",
      "|   |   |   |   |   |   |   |   |   |   |--- value: [80000.00]\n",
      "|   |   |   |   |   |   |   |--- feature_1 >  39.50\n",
      "|   |   |   |   |   |   |   |   |--- feature_0 <= 12.50\n",
      "|   |   |   |   |   |   |   |   |   |--- value: [100000.00]\n",
      "|   |   |   |   |   |   |   |   |--- feature_0 >  12.50\n",
      "|   |   |   |   |   |   |   |   |   |--- value: [120000.00]\n",
      "|   |   |   |   |   |--- feature_2 >  1.50\n",
      "|   |   |   |   |   |   |--- feature_0 <= 10.50\n",
      "|   |   |   |   |   |   |   |--- value: [110000.00]\n",
      "|   |   |   |   |   |   |--- feature_0 >  10.50\n",
      "|   |   |   |   |   |   |   |--- feature_1 <= 38.50\n",
      "|   |   |   |   |   |   |   |   |--- value: [120000.00]\n",
      "|   |   |   |   |   |   |   |--- feature_1 >  38.50\n",
      "|   |   |   |   |   |   |   |   |--- value: [115000.00]\n",
      "|   |   |   |   |--- feature_0 >  13.50\n",
      "|   |   |   |   |   |--- value: [130000.00]\n",
      "|--- feature_1 >  40.50\n",
      "|   |--- feature_1 <= 46.50\n",
      "|   |   |--- feature_0 <= 14.50\n",
      "|   |   |   |--- feature_0 <= 11.50\n",
      "|   |   |   |   |--- value: [92500.00]\n",
      "|   |   |   |--- feature_0 >  11.50\n",
      "|   |   |   |   |--- feature_2 <= 1.50\n",
      "|   |   |   |   |   |--- feature_1 <= 44.50\n",
      "|   |   |   |   |   |   |--- feature_2 <= 0.50\n",
      "|   |   |   |   |   |   |   |--- feature_1 <= 41.50\n",
      "|   |   |   |   |   |   |   |   |--- value: [150000.00]\n",
      "|   |   |   |   |   |   |   |--- feature_1 >  41.50\n",
      "|   |   |   |   |   |   |   |   |--- feature_0 <= 12.50\n",
      "|   |   |   |   |   |   |   |   |   |--- value: [115000.00]\n",
      "|   |   |   |   |   |   |   |   |--- feature_0 >  12.50\n",
      "|   |   |   |   |   |   |   |   |   |--- feature_0 <= 13.50\n",
      "|   |   |   |   |   |   |   |   |   |   |--- value: [130000.00]\n",
      "|   |   |   |   |   |   |   |   |   |--- feature_0 >  13.50\n",
      "|   |   |   |   |   |   |   |   |   |   |--- feature_1 <= 43.50\n",
      "|   |   |   |   |   |   |   |   |   |   |   |--- value: [130000.00]\n",
      "|   |   |   |   |   |   |   |   |   |   |--- feature_1 >  43.50\n",
      "|   |   |   |   |   |   |   |   |   |   |   |--- value: [120000.00]\n",
      "|   |   |   |   |   |   |--- feature_2 >  0.50\n",
      "|   |   |   |   |   |   |   |--- feature_1 <= 41.50\n",
      "|   |   |   |   |   |   |   |   |--- feature_0 <= 13.50\n",
      "|   |   |   |   |   |   |   |   |   |--- value: [116000.00]\n",
      "|   |   |   |   |   |   |   |   |--- feature_0 >  13.50\n",
      "|   |   |   |   |   |   |   |   |   |--- value: [100000.00]\n",
      "|   |   |   |   |   |   |   |--- feature_1 >  41.50\n",
      "|   |   |   |   |   |   |   |   |--- feature_0 <= 13.50\n",
      "|   |   |   |   |   |   |   |   |   |--- feature_0 <= 12.50\n",
      "|   |   |   |   |   |   |   |   |   |   |--- value: [120000.00]\n",
      "|   |   |   |   |   |   |   |   |   |--- feature_0 >  12.50\n",
      "|   |   |   |   |   |   |   |   |   |   |--- value: [140000.00]\n",
      "|   |   |   |   |   |   |   |   |--- feature_0 >  13.50\n",
      "|   |   |   |   |   |   |   |   |   |--- feature_1 <= 42.50\n",
      "|   |   |   |   |   |   |   |   |   |   |--- value: [117500.00]\n",
      "|   |   |   |   |   |   |   |   |   |--- feature_1 >  42.50\n",
      "|   |   |   |   |   |   |   |   |   |   |--- value: [120000.00]\n",
      "|   |   |   |   |   |--- feature_1 >  44.50\n",
      "|   |   |   |   |   |   |--- value: [140000.00]\n",
      "|   |   |   |   |--- feature_2 >  1.50\n",
      "|   |   |   |   |   |--- value: [140000.00]\n",
      "|   |   |--- feature_0 >  14.50\n",
      "|   |   |   |--- feature_2 <= 0.50\n",
      "|   |   |   |   |--- feature_0 <= 16.50\n",
      "|   |   |   |   |   |--- feature_0 <= 15.50\n",
      "|   |   |   |   |   |   |--- value: [120000.00]\n",
      "|   |   |   |   |   |--- feature_0 >  15.50\n",
      "|   |   |   |   |   |   |--- feature_1 <= 43.50\n",
      "|   |   |   |   |   |   |   |--- value: [140000.00]\n",
      "|   |   |   |   |   |   |--- feature_1 >  43.50\n",
      "|   |   |   |   |   |   |   |--- value: [127500.00]\n",
      "|   |   |   |   |--- feature_0 >  16.50\n",
      "|   |   |   |   |   |--- feature_1 <= 45.50\n",
      "|   |   |   |   |   |   |--- feature_1 <= 44.00\n",
      "|   |   |   |   |   |   |   |--- feature_0 <= 17.50\n",
      "|   |   |   |   |   |   |   |   |--- value: [100000.00]\n",
      "|   |   |   |   |   |   |   |--- feature_0 >  17.50\n",
      "|   |   |   |   |   |   |   |   |--- value: [105000.00]\n",
      "|   |   |   |   |   |   |--- feature_1 >  44.00\n",
      "|   |   |   |   |   |   |   |--- value: [110000.00]\n",
      "|   |   |   |   |   |--- feature_1 >  45.50\n",
      "|   |   |   |   |   |   |--- value: [120000.00]\n",
      "|   |   |   |--- feature_2 >  0.50\n",
      "|   |   |   |   |--- feature_0 <= 15.50\n",
      "|   |   |   |   |   |--- feature_1 <= 42.50\n",
      "|   |   |   |   |   |   |--- value: [110000.00]\n",
      "|   |   |   |   |   |--- feature_1 >  42.50\n",
      "|   |   |   |   |   |   |--- feature_2 <= 1.50\n",
      "|   |   |   |   |   |   |   |--- value: [140000.00]\n",
      "|   |   |   |   |   |   |--- feature_2 >  1.50\n",
      "|   |   |   |   |   |   |   |--- feature_1 <= 43.50\n",
      "|   |   |   |   |   |   |   |   |--- value: [145000.00]\n",
      "|   |   |   |   |   |   |   |--- feature_1 >  43.50\n",
      "|   |   |   |   |   |   |   |   |--- feature_1 <= 44.50\n",
      "|   |   |   |   |   |   |   |   |   |--- value: [148333.33]\n",
      "|   |   |   |   |   |   |   |   |--- feature_1 >  44.50\n",
      "|   |   |   |   |   |   |   |   |   |--- value: [150000.00]\n",
      "|   |   |   |   |--- feature_0 >  15.50\n",
      "|   |   |   |   |   |--- feature_0 <= 20.50\n",
      "|   |   |   |   |   |   |--- feature_1 <= 43.50\n",
      "|   |   |   |   |   |   |   |--- feature_2 <= 1.50\n",
      "|   |   |   |   |   |   |   |   |--- value: [170000.00]\n",
      "|   |   |   |   |   |   |   |--- feature_2 >  1.50\n",
      "|   |   |   |   |   |   |   |   |--- feature_1 <= 41.50\n",
      "|   |   |   |   |   |   |   |   |   |--- value: [160000.00]\n",
      "|   |   |   |   |   |   |   |   |--- feature_1 >  41.50\n",
      "|   |   |   |   |   |   |   |   |   |--- feature_0 <= 16.50\n",
      "|   |   |   |   |   |   |   |   |   |   |--- value: [150000.00]\n",
      "|   |   |   |   |   |   |   |   |   |--- feature_0 >  16.50\n",
      "|   |   |   |   |   |   |   |   |   |   |--- value: [140000.00]\n",
      "|   |   |   |   |   |   |--- feature_1 >  43.50\n",
      "|   |   |   |   |   |   |   |--- feature_1 <= 45.50\n",
      "|   |   |   |   |   |   |   |   |--- feature_0 <= 18.50\n",
      "|   |   |   |   |   |   |   |   |   |--- feature_0 <= 16.50\n",
      "|   |   |   |   |   |   |   |   |   |   |--- feature_2 <= 1.50\n",
      "|   |   |   |   |   |   |   |   |   |   |   |--- value: [160000.00]\n",
      "|   |   |   |   |   |   |   |   |   |   |--- feature_2 >  1.50\n",
      "|   |   |   |   |   |   |   |   |   |   |   |--- truncated branch of depth 2\n",
      "|   |   |   |   |   |   |   |   |   |--- feature_0 >  16.50\n",
      "|   |   |   |   |   |   |   |   |   |   |--- feature_0 <= 17.50\n",
      "|   |   |   |   |   |   |   |   |   |   |   |--- value: [155000.00]\n",
      "|   |   |   |   |   |   |   |   |   |   |--- feature_0 >  17.50\n",
      "|   |   |   |   |   |   |   |   |   |   |   |--- value: [160000.00]\n",
      "|   |   |   |   |   |   |   |   |--- feature_0 >  18.50\n",
      "|   |   |   |   |   |   |   |   |   |--- value: [177500.00]\n",
      "|   |   |   |   |   |   |   |--- feature_1 >  45.50\n",
      "|   |   |   |   |   |   |   |   |--- feature_0 <= 19.50\n",
      "|   |   |   |   |   |   |   |   |   |--- feature_2 <= 1.50\n",
      "|   |   |   |   |   |   |   |   |   |   |--- value: [140000.00]\n",
      "|   |   |   |   |   |   |   |   |   |--- feature_2 >  1.50\n",
      "|   |   |   |   |   |   |   |   |   |   |--- feature_0 <= 17.50\n",
      "|   |   |   |   |   |   |   |   |   |   |   |--- value: [160000.00]\n",
      "|   |   |   |   |   |   |   |   |   |   |--- feature_0 >  17.50\n",
      "|   |   |   |   |   |   |   |   |   |   |   |--- truncated branch of depth 2\n",
      "|   |   |   |   |   |   |   |   |--- feature_0 >  19.50\n",
      "|   |   |   |   |   |   |   |   |   |--- value: [170000.00]\n",
      "|   |   |   |   |   |--- feature_0 >  20.50\n",
      "|   |   |   |   |   |   |--- value: [135000.00]\n",
      "|   |--- feature_1 >  46.50\n",
      "|   |   |--- feature_0 <= 23.50\n",
      "|   |   |   |--- feature_2 <= 0.50\n",
      "|   |   |   |   |--- feature_1 <= 48.50\n",
      "|   |   |   |   |   |--- feature_1 <= 47.50\n",
      "|   |   |   |   |   |   |--- value: [135000.00]\n",
      "|   |   |   |   |   |--- feature_1 >  47.50\n",
      "|   |   |   |   |   |   |--- value: [140000.00]\n",
      "|   |   |   |   |--- feature_1 >  48.50\n",
      "|   |   |   |   |   |--- feature_1 <= 49.50\n",
      "|   |   |   |   |   |   |--- value: [160000.00]\n",
      "|   |   |   |   |   |--- feature_1 >  49.50\n",
      "|   |   |   |   |   |   |--- feature_1 <= 50.50\n",
      "|   |   |   |   |   |   |   |--- value: [145000.00]\n",
      "|   |   |   |   |   |   |--- feature_1 >  50.50\n",
      "|   |   |   |   |   |   |   |--- value: [155000.00]\n",
      "|   |   |   |--- feature_2 >  0.50\n",
      "|   |   |   |   |--- feature_1 <= 51.50\n",
      "|   |   |   |   |   |--- feature_1 <= 50.50\n",
      "|   |   |   |   |   |   |--- feature_1 <= 48.50\n",
      "|   |   |   |   |   |   |   |--- feature_0 <= 21.50\n",
      "|   |   |   |   |   |   |   |   |--- feature_0 <= 18.50\n",
      "|   |   |   |   |   |   |   |   |   |--- value: [190000.00]\n",
      "|   |   |   |   |   |   |   |   |--- feature_0 >  18.50\n",
      "|   |   |   |   |   |   |   |   |   |--- feature_1 <= 47.50\n",
      "|   |   |   |   |   |   |   |   |   |   |--- feature_0 <= 19.50\n",
      "|   |   |   |   |   |   |   |   |   |   |   |--- value: [180000.00]\n",
      "|   |   |   |   |   |   |   |   |   |   |--- feature_0 >  19.50\n",
      "|   |   |   |   |   |   |   |   |   |   |   |--- truncated branch of depth 2\n",
      "|   |   |   |   |   |   |   |   |   |--- feature_1 >  47.50\n",
      "|   |   |   |   |   |   |   |   |   |   |--- feature_0 <= 19.50\n",
      "|   |   |   |   |   |   |   |   |   |   |   |--- value: [170000.00]\n",
      "|   |   |   |   |   |   |   |   |   |   |--- feature_0 >  19.50\n",
      "|   |   |   |   |   |   |   |   |   |   |   |--- truncated branch of depth 3\n",
      "|   |   |   |   |   |   |   |--- feature_0 >  21.50\n",
      "|   |   |   |   |   |   |   |   |--- value: [160000.00]\n",
      "|   |   |   |   |   |   |--- feature_1 >  48.50\n",
      "|   |   |   |   |   |   |   |--- feature_0 <= 19.50\n",
      "|   |   |   |   |   |   |   |   |--- value: [150000.00]\n",
      "|   |   |   |   |   |   |   |--- feature_0 >  19.50\n",
      "|   |   |   |   |   |   |   |   |--- feature_1 <= 49.50\n",
      "|   |   |   |   |   |   |   |   |   |--- value: [180000.00]\n",
      "|   |   |   |   |   |   |   |   |--- feature_1 >  49.50\n",
      "|   |   |   |   |   |   |   |   |   |--- feature_2 <= 1.50\n",
      "|   |   |   |   |   |   |   |   |   |   |--- feature_0 <= 20.50\n",
      "|   |   |   |   |   |   |   |   |   |   |   |--- value: [180000.00]\n",
      "|   |   |   |   |   |   |   |   |   |   |--- feature_0 >  20.50\n",
      "|   |   |   |   |   |   |   |   |   |   |   |--- value: [160000.00]\n",
      "|   |   |   |   |   |   |   |   |   |--- feature_2 >  1.50\n",
      "|   |   |   |   |   |   |   |   |   |   |--- value: [180000.00]\n",
      "|   |   |   |   |   |--- feature_1 >  50.50\n",
      "|   |   |   |   |   |   |--- feature_0 <= 22.00\n",
      "|   |   |   |   |   |   |   |--- value: [190000.00]\n",
      "|   |   |   |   |   |   |--- feature_0 >  22.00\n",
      "|   |   |   |   |   |   |   |--- feature_2 <= 1.50\n",
      "|   |   |   |   |   |   |   |   |--- value: [170000.00]\n",
      "|   |   |   |   |   |   |   |--- feature_2 >  1.50\n",
      "|   |   |   |   |   |   |   |   |--- value: [185000.00]\n",
      "|   |   |   |   |--- feature_1 >  51.50\n",
      "|   |   |   |   |   |--- value: [200000.00]\n",
      "|   |   |--- feature_0 >  23.50\n",
      "|   |   |   |--- feature_0 <= 24.50\n",
      "|   |   |   |   |--- value: [250000.00]\n",
      "|   |   |   |--- feature_0 >  24.50\n",
      "|   |   |   |   |--- feature_1 <= 51.00\n",
      "|   |   |   |   |   |--- value: [250000.00]\n",
      "|   |   |   |   |--- feature_1 >  51.00\n",
      "|   |   |   |   |   |--- feature_1 <= 52.50\n",
      "|   |   |   |   |   |   |--- value: [170000.00]\n",
      "|   |   |   |   |   |--- feature_1 >  52.50\n",
      "|   |   |   |   |   |   |--- value: [180000.00]\n",
      "\n"
     ]
    }
   ],
   "source": [
    "from sklearn.tree import DecisionTreeRegressor\n",
    "from sklearn.tree import export_text\n",
    "\n",
    "# Train the model\n",
    "dt_model = DecisionTreeRegressor().fit(X, y)\n",
    "print (dt_model, \"\\n\")\n",
    "\n",
    "# Visualize the model tree\n",
    "tree = export_text(dt_model)\n",
    "print(tree)"
   ]
  },
  {
   "cell_type": "code",
   "execution_count": 94,
   "id": "9fe03f43",
   "metadata": {},
   "outputs": [
    {
     "name": "stdout",
     "output_type": "stream",
     "text": [
      "MSE: 95202480.95945105\n",
      "RMSE: 9757.175870068708\n",
      "R2: 0.9578168517256799\n"
     ]
    }
   ],
   "source": [
    "# Evaluate the model using the test data\n",
    "predictions = dt_model.predict(X_test)\n",
    "mse = mean_squared_error(y_test, predictions)\n",
    "print(\"MSE:\", mse)\n",
    "rmse = np.sqrt(mse)\n",
    "print(\"RMSE:\", rmse)\n",
    "r2 = r2_score(y_test, predictions)\n",
    "print(\"R2:\", r2)"
   ]
  },
  {
   "cell_type": "code",
   "execution_count": 96,
   "id": "e58a260e",
   "metadata": {},
   "outputs": [
    {
     "data": {
      "text/plain": [
       "0.9559189198308237"
      ]
     },
     "execution_count": 96,
     "metadata": {},
     "output_type": "execute_result"
    }
   ],
   "source": [
    "r2_score_training = r2_score(y_train,model.predict(X_train))\n",
    "r2_score_training"
   ]
  },
  {
   "cell_type": "markdown",
   "id": "bccb06ff",
   "metadata": {},
   "source": [
    "- The decision tree model gives more accuracy in prediction compared to Linear regression model"
   ]
  },
  {
   "cell_type": "code",
   "execution_count": 98,
   "id": "12ded8f9",
   "metadata": {},
   "outputs": [
    {
     "data": {
      "image/png": "[encoded data removed]",
      "text/plain": [
       "<Figure size 864x576 with 1 Axes>"
      ]
     },
     "metadata": {
      "needs_background": "light"
     },
     "output_type": "display_data"
    }
   ],
   "source": [
    "#feature importance\n",
    "\n",
    "plt.figure(figsize=(12,8))\n",
    "\n",
    "importance = dt_model.feature_importances_\n",
    "\n",
    "sb.barplot(x=importance, y=X.columns)\n",
    "plt.show()"
   ]
  },
  {
   "cell_type": "markdown",
   "id": "8cc2d003",
   "metadata": {},
   "source": [
    " Feature importances represent the relative importance of each feature in predicting the target variable. Higher importance values indicate features that are more influential in making predictions.\n",
    " The feature importances from the trained decision tree regressor model (dt_model) is retrieved by calling the feature_importance method(dt_model.feature_importances_)\n",
    " \n",
    " A bar plot is created using Seaborn's barplot() function.\n",
    " \n",
    "x=importance specifies the importance values as the x-axis (horizontal axis) of the plot.\n",
    "\n",
    "y=X.columns specifies the feature names as the y-axis (vertical axis) of the plot.\n",
    "\n",
    "X.columns returns the column names of the feature matrix X, which are used as labels for the y-axis.\n",
    "\n",
    "\n",
    "Each bar in the plot represents the importance of a feature, and the height of the bar indicates the relative importance of that feature compared to others\n",
    "\n",
    "  "
   ]
  },
  {
   "cell_type": "code",
   "execution_count": null,
   "id": "1f709e77",
   "metadata": {},
   "outputs": [],
   "source": []
  }
 ],
 "metadata": {
  "kernelspec": {
   "display_name": "Python 3 (ipykernel)",
   "language": "python",
   "name": "python3"
  },
  "language_info": {
   "codemirror_mode": {
    "name": "ipython",
    "version": 3
   },
   "file_extension": ".py",
   "mimetype": "text/x-python",
   "name": "python",
   "nbconvert_exporter": "python",
   "pygments_lexer": "ipython3",
   "version": "3.11.7"
  }
 },
 "nbformat": 4,
 "nbformat_minor": 5
}
